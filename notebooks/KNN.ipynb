{
 "cells": [
  {
   "cell_type": "code",
   "execution_count": null,
   "metadata": {
    "vscode": {
     "languageId": "plaintext"
    }
   },
   "outputs": [],
   "source": [
    "import numpy as np\n",
    "import pandas as pd\n",
    "from sklearn.model_selection import train_test_split\n",
    "from sklearn.neighbors import KNeighborsClassifier\n",
    "from sklearn.metrics import accuracy_score\n",
    "\n",
    "def load_dataset(file_path, target_column):\n",
    "    # Load the dataset from a CSV file\n",
    "    df = pd.read_csv(file_path)\n",
    "    \n",
    "    # Split the dataset into features (X) and target (y)\n",
    "    X = df.drop(columns=[target_column]).values\n",
    "    y = df[target_column].values\n",
    "    \n",
    "    return X, y\n",
    "\n",
    "def main():\n",
    "    # User inputs\n",
    "    file_path = input(\"Enter the path to the dataset CSV file: \")\n",
    "    target_column = input(\"Enter the name of the target column: \")\n",
    "    k = int(input(\"Enter the number of neighbors (k): \"))\n",
    "    \n",
    "    # Load the dataset\n",
    "    X, y = load_dataset(file_path, target_column)\n",
    "    \n",
    "    # Split the dataset into training and testing sets\n",
    "    X_train, X_test, y_train, y_test = train_test_split(X, y, test_size=0.2, random_state=42)\n",
    "    \n",
    "    # Create the k-NN classifier\n",
    "    knn = KNeighborsClassifier(n_neighbors=k)\n",
    "    \n",
    "    # Train the classifier\n",
    "    knn.fit(X_train, y_train)\n",
    "    \n",
    "    # Make predictions\n",
    "    y_pred = knn.predict(X_test)\n",
    "    \n",
    "    # Evaluate the classifier\n",
    "    accuracy = accuracy_score(y_test, y_pred)\n",
    "    print(f\"Accuracy: {accuracy * 100:.2f}%\")\n",
    "    \n",
    "    # Example of predicting a new sample\n",
    "    new_sample = input(\"Enter a new sample (comma-separated values): \")\n",
    "    new_sample = np.array([list(map(float, new_sample.split(',')))])\n",
    "    prediction = knn.predict(new_sample)\n",
    "    print(f\"Predicted class for the new sample: {prediction[0]}\")\n",
    "\n",
    "if __name__ == \"__main__\":\n",
    "    main()"
   ]
  },
  {
   "cell_type": "code",
   "execution_count": null,
   "metadata": {
    "vscode": {
     "languageId": "plaintext"
    }
   },
   "outputs": [],
   "source": []
  }
 ],
 "metadata": {
  "language_info": {
   "name": "python"
  }
 },
 "nbformat": 4,
 "nbformat_minor": 2
}

{
 "cells": [
  {
   "cell_type": "code",
   "execution_count": null,
   "metadata": {
    "vscode": {
     "languageId": "plaintext"
    }
   },
   "outputs": [],
   "source": [
    "# Import module\n",
    "import pandas as pd\n",
    "import numpy as np\n",
    "\n",
    "# Load dataset\n",
    "df = pd.read_csv(dataset_path)\n",
    "print(df)\n",
    "\n",
    "# Split features\n",
    "attr = np.array(df)[:, :-1]\n",
    "print(\"The attributes are: \")\n",
    "print(attr)\n",
    "\n",
    "# Split target\n",
    "target = np.array(df)[:, -1]\n",
    "print(\"The target values are: \")\n",
    "print(target)\n",
    "\n",
    "def learn(attr, target):\n",
    "    s = attr[0].copy()  # Start with the first instance as specific hypothesis\n",
    "    g = [['?' for _ in range(len(s))] for _ in range(len(s))]  # General hypothesis\n",
    "\n",
    "    # Update the specific and general hypotheses\n",
    "    for i, h in enumerate(attr):\n",
    "        if target[i] == \"Yes\":\n",
    "            for x in range(len(s)):\n",
    "                if h[x] != s[x]:\n",
    "                    s[x] = '?'  # Generalize specific hypothesis\n",
    "                    g[x][x] = '?'  # Generalize corresponding general hypothesis\n",
    "        elif target[i] == \"No\":\n",
    "            for x in range(len(s)):\n",
    "                if h[x] != s[x]:\n",
    "                    g[x][x] = s[x]  # Specialize general hypothesis\n",
    "                else:\n",
    "                    g[x][x] = '?'  # Retain '?' for non-matching features\n",
    "\n",
    "    # Remove redundant hypotheses from general hypothesis set\n",
    "    g = [hypo for hypo in g if hypo != ['?' for _ in range(len(s))]]\n",
    "\n",
    "    return s, g\n",
    "\n",
    "# Learn the hypotheses\n",
    "s_f, g_f = learn(attr, target)\n",
    "\n",
    "# Print results\n",
    "print(\"Final specific hypothesis: \", s_f)\n",
    "print(\"Final general hypotheses: \", g_f)\n"
   ]
  }
 ],
 "metadata": {
  "language_info": {
   "name": "python"
  }
 },
 "nbformat": 4,
 "nbformat_minor": 2
}

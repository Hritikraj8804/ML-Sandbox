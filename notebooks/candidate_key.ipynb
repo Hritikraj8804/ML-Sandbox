{
 "cells": [
  {
   "cell_type": "code",
   "execution_count": null,
   "metadata": {
    "vscode": {
     "languageId": "plaintext"
    }
   },
   "outputs": [],
   "source": [
    "import pandas as pd\n",
    "import itertools\n",
    "\n",
    "# Load the dataset\n",
    "dataset = pd.read_csv(parameters['dataset_path'])\n",
    "\n",
    "# Function to check if a set of attributes forms a candidate key\n",
    "def is_candidate_key(attributes):\n",
    "    subset = dataset[list(attributes)]\n",
    "    return subset.duplicated().sum() == 0\n",
    "\n",
    "# Find all possible attribute combinations\n",
    "columns = dataset.columns\n",
    "candidate_keys = []\n",
    "\n",
    "# Generate combinations of columns and check for candidate keys\n",
    "for r in range(1, len(columns) + 1):\n",
    "    for comb in itertools.combinations(columns, r):\n",
    "        if is_candidate_key(comb):\n",
    "            candidate_keys.append(comb)\n",
    "\n",
    "print(f\"Candidate Keys: {candidate_keys}\")\n"
   ]
  }
 ],
 "metadata": {
  "language_info": {
   "name": "python"
  }
 },
 "nbformat": 4,
 "nbformat_minor": 2
}

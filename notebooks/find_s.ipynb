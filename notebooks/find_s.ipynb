{
 "cells": [
  {
   "cell_type": "code",
   "execution_count": null,
   "metadata": {
    "vscode": {
     "languageId": "plaintext"
    }
   },
   "outputs": [],
   "source": [
    "import pandas as pd\n",
    "\n",
    "# Load the dataset\n",
    "dataset = pd.read_csv(parameters['dataset_path'])\n",
    "\n",
    "# Assuming the last column is the target (positive/negative class)\n",
    "target = dataset.columns[-1]\n",
    "\n",
    "# Find the most specific hypothesis (Find-S)\n",
    "positive_examples = dataset[dataset[target] == 'yes']\n",
    "hypothesis = positive_examples.iloc[0].drop(target).values\n",
    "\n",
    "# Iterate through the positive examples to generalize the hypothesis\n",
    "for _, row in positive_examples.iterrows():\n",
    "    for i in range(len(hypothesis)):\n",
    "        if hypothesis[i] != row[i]:\n",
    "            hypothesis[i] = '?'\n",
    "\n",
    "print(f\"Final Hypothesis: {hypothesis}\")\n"
   ]
  }
 ],
 "metadata": {
  "language_info": {
   "name": "python"
  }
 },
 "nbformat": 4,
 "nbformat_minor": 2
}

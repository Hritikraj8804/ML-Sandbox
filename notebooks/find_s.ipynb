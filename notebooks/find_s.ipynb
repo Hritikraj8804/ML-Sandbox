{
 "cells": [
  {
   "cell_type": "code",
   "execution_count": null,
   "metadata": {
    "vscode": {
     "languageId": "plaintext"
    }
   },
   "outputs": [],
   "source": [
    "import pandas as pd\n",
    "import numpy as np\n",
    "\n",
    "# Load the dataset (assuming it’s passed in the params)\n",
    "df = pd.read_csv(dataset_path)\n",
    "\n",
    "# Print the dataset for debugging\n",
    "#print(df)\n",
    "\n",
    "# Split features\n",
    "attr = np.array(df)[:,:-1]\n",
    "#print(\"The attributes are: \")\n",
    "#print(attr)\n",
    "\n",
    "# Split target\n",
    "target = np.array(df)[:,-1]\n",
    "#print(\"The targets are: \")\n",
    "#print(target)\n",
    "\n",
    "# Initialize hypo to None\n",
    "hypo = None\n",
    "\n",
    "# Copy the 1st positive row in specific hypo\n",
    "for i, val in enumerate(target):\n",
    "    if val == \"Yes\" or val == 1:\n",
    "        hypo = attr[i].copy()\n",
    "        break\n",
    "\n",
    "# Check if hypo is defined\n",
    "if hypo is None:\n",
    "    raise ValueError(\"No positive examples found in the dataset.\")\n",
    "\n",
    "# Update the specific hypo       \n",
    "for i, val in enumerate(attr):\n",
    "    if target[i] == \"Yes\" or target[i] == 1:\n",
    "        for x in range(len(hypo)):\n",
    "            if val[x] != hypo[x]:\n",
    "                hypo[x] = '?'\n",
    "#print(f\"The final hypothesis is: {hypo}\")\n",
    "\n",
    "# Ensure hypo is processed as string to avoid conversion issues\n",
    "hypo_str = [str(h) for h in hypo]\n",
    "print(f\"The final hypothesis as strings is: {hypo_str}\")"
   ]
  }
 ],
 "metadata": {
  "language_info": {
   "name": "python"
  }
 },
 "nbformat": 4,
 "nbformat_minor": 2
}
